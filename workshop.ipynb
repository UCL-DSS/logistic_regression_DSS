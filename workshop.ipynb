{
 "cells": [
  {
   "cell_type": "markdown",
   "id": "d0083273",
   "metadata": {},
   "source": [
    "# Logistic Regression"
   ]
  },
  {
   "cell_type": "markdown",
   "id": "f78a1529",
   "metadata": {},
   "source": [
    "**Author:** Seda Radoykova, Science Executive (21/22), UCL DSS\n",
    "\n",
    "**Date:** 11 Jan, 2022\n",
    "\n",
    "***Proudly presented by the UCL Data Science Society***.\n",
    "\n",
    "*The majority of the content of this workshop is based on this wonderful [RealPython tutorial](https://realpython.com/logistic-regression-python/), while this great [DataCamp tutorial](https://www.datacamp.com/community/tutorials/understanding-logistic-regression-python) provided the basis of the data analysis.*"
   ]
  },
  {
   "cell_type": "markdown",
   "id": "f5b4342d",
   "metadata": {},
   "source": [
    "## Introduction\n",
    "Welcome to this workshop about **Logistic Regression**. We will cover the [conceptual](#concepts) and [mathematical](#maths) foundations of the logistic regression classifier; take a look at a simple [example](#data) to learn how to [implement](#implement) logistic regression models in Python; finally, we will cover some [performance evaluation](#metrics) techniques and [conclude](#conclusion) by discussing the advantages and limitations of logistic regression. \n"
   ]
  },
  {
   "cell_type": "markdown",
   "id": "37284499",
   "metadata": {},
   "source": [
    "### Software prerequisites"
   ]
  },
  {
   "cell_type": "code",
   "execution_count": 1,
   "id": "c14d307f",
   "metadata": {},
   "outputs": [],
   "source": [
    "import math\n",
    "import numpy as np\n",
    "import pandas as pd\n",
    "import seaborn as sns\n",
    "import matplotlib.pyplot as plt\n",
    "%matplotlib inline\n",
    "from sklearn.linear_model import LogisticRegression, LinearRegression\n",
    "from sklearn.model_selection import train_test_split\n",
    "from sklearn import metrics # contains classification_report, confusion_matrix"
   ]
  },
  {
   "cell_type": "markdown",
   "id": "1306700b",
   "metadata": {},
   "source": [
    "<a id = \"concepts\"></a>\n",
    "## Classification problems in ML"
   ]
  },
  {
   "cell_type": "markdown",
   "id": "7de9f7c9",
   "metadata": {},
   "source": [
    "**Supervised** machine learning algorithms build models based on *labelled data sets*. The models use the labelled data in the learning process. Also known as **fitting**, this is the process of *adjusting the weights* or *parameters* based the data points. \n",
    "<br><br>\n",
    "Problems in machine learning can therefore be broadly divided into **classification** and **regression**. We have already seen examples of applying regression to continuous prediction problems: *linear regression*. But as we know, data can broadly be defined as **categorical** or **continuous**. Can we use regression for categorical data? \n",
    "<br> <br>\n",
    "The answer is yes, and this is the basis of **logistic regression**, the topic of this workshop. \n",
    "<br><br>\n",
    "Confusingly, the predictions from logistic regression are used to *categorise/classify* data, *i.e.* predict which category an observation belongs to, based on its features. \n",
    "<br><br>\n",
    "Some questions we might be interested in asnwering are, for example, \"How likely is a person to suffer from a disease (**outcome**) given their age, sex, smoking status, *etc* (**varibles/features**)?\" \"How likely is this email to be spam?\" \"Will a student pass a test given some predictors of performance?\""
   ]
  },
  {
   "cell_type": "markdown",
   "id": "c327bef0",
   "metadata": {},
   "source": [
    "It is important to keep in mind the distinction between **independent** and **dependent** variables:\n",
    "<br>\n",
    "* **Independent variable** (inputs or predictors) - as the name suggests, these should be independent of the outcome of interest (assume so!).\n",
    "* **Dependent variables** (outputs or responses) - these depend on the independent variables."
   ]
  },
  {
   "cell_type": "markdown",
   "id": "1ae24dde",
   "metadata": {},
   "source": [
    "Further to this, classification problems can be divided into:\n",
    "\n",
    "- **Binary** or **binomial classification** - two possible outcomes (0 or 1, true or false, positive or negative, pass or fail, healthy or sick, spam or not spam).\n",
    "- **Multiclass** or **multinomial classification** - three or more possible outputs (healthy, diease 1, disease 2). \n",
    "- **Ordinal** logistic regression - similar to multinomial, except the dependent variables have ordinal significance (for example, UK degree classification or restaurant ratings). \n",
    "\n",
    "We will only consider binary classification for the sake of simplicity. "
   ]
  },
  {
   "cell_type": "markdown",
   "id": "65fc9084",
   "metadata": {},
   "source": [
    "## Defining the problem, setting the scene"
   ]
  },
  {
   "cell_type": "markdown",
   "id": "eef45125",
   "metadata": {},
   "source": [
    "<a id = \"maths\"></a>\n",
    "### Some background maths: the sigmoid function and a little bit of probability theory"
   ]
  },
  {
   "cell_type": "markdown",
   "id": "65239c5b",
   "metadata": {},
   "source": [
    "The **sigmoid function** is also known as an S-shaped curve. It is defined as: <br>\n",
    "$\\sigma(x) = \\frac{1}{1+e^{-x}}$ <br>\n",
    "*Note (see graph below) how most values are very close to either 0 or 1.*"
   ]
  },
  {
   "cell_type": "code",
   "execution_count": 2,
   "id": "2e5de838",
   "metadata": {},
   "outputs": [],
   "source": [
    "# implement a sigmoid function by hand\n",
    "def sigmoid(x):\n",
    "    a = []\n",
    "    for item in x:\n",
    "        a.append(1/(1+math.exp(-item)))\n",
    "    return a\n",
    "\n",
    "# evaluate the sigmoid at some x values\n",
    "sigm = np.arange(-22, 22, 0.5)"
   ]
  },
  {
   "cell_type": "code",
   "execution_count": 3,
   "id": "d0e1bdb0",
   "metadata": {},
   "outputs": [
    {
     "data": {
      "image/png": "[encoded data removed]",
      "text/plain": [
       "<Figure size 432x288 with 1 Axes>"
      ]
     },
     "metadata": {
      "needs_background": "light"
     },
     "output_type": "display_data"
    }
   ],
   "source": [
    "# plot the sigmoid\n",
    "plt.plot(sigm*0.2+4.57, np.array(sigmoid(sigm)), color = \"red\") # manually implemented sigmoid\n",
    "plt.plot([0,10], [0.5, 0.5], linestyle = \"dotted\", color = \"black\") \n",
    "plt.title(\"Sigmoid function\")\n",
    "plt.xlabel(\"x\")\n",
    "plt.ylabel(\"y\")\n",
    "plt.show()"
   ]
  },
  {
   "cell_type": "markdown",
   "id": "d7993ca9",
   "metadata": {},
   "source": [
    "You might see the term **logit** function (logistic unit). \n",
    "The logit function is the inverse of the sigmoid function, $\\sigma^{-1}$. \n",
    "Therefore: \n",
    "<br> $logit(p) = \\sigma^{-1}(p) = \\ln(\\frac{p}{1-p})$ for $p \\in (0;1)$ <br>\n",
    "This is effectively the (natural) logarithm of the **odds ratio**. \n",
    "Hence, logit is also known as the log-odds. <br>\n",
    "**Odds** is the probability that something happens divided by the probability it does not happen: <br>\n",
    "$\\frac{p}{1-p}$ <br>\n",
    "*Note that you might see $log$ notation instead of $ln$, but log still implies $log(base=e)$.*"
   ]
  },
  {
   "cell_type": "markdown",
   "id": "8f40bef0",
   "metadata": {},
   "source": [
    "_This entire detour is to focus on our attention on how it is that we decide whether the predicted outcome will be 0 or 1 - it is all a matter of **probability**. (The **probability** of passing or failing, winning or losing, being healthy or diseased.)_"
   ]
  },
  {
   "cell_type": "markdown",
   "id": "b535a5c7",
   "metadata": {},
   "source": [
    "Let's actually start framing the problem by saying that we have a set of independent variables $ X = (x_1 , ... x_r )$, where $r$ is the number of predictors/inputs. We would like to predict the bonary outcome $y$. We have some known values of $x_i$ for which we have observed the corresponding $y_i$ and our data set consists of $n$ such pairs. "
   ]
  },
  {
   "cell_type": "markdown",
   "id": "0f74ac9c",
   "metadata": {},
   "source": [
    "Therefore, our goal is to fit the **logistic regression function** to our data, minimisiing the distance between the predicted (line) and the observed (dots) outcomes. Once we know the **parameters** of the logistic function, we can use it to predict unobserved values. "
   ]
  },
  {
   "cell_type": "markdown",
   "id": "1322d888",
   "metadata": {},
   "source": [
    "Coming back to the sigmoid function:\n",
    "<br> $\\sigma(x) = \\frac{1}{1+e^{-x}}$ <br>\n",
    "In the place of $-x$, let's put the **linear predictor** function $f(x) = \\beta_0 + \\beta_1x_1 + ... + \\beta_rx_r $. (The same linear predictor which we used for linear regression!) <br>\n",
    "The sigmoid becomes the logistic regression function $p(x)$:\n",
    "<br> $p(x) = \\frac{1}{1+e^{-f(x)}}$ \n",
    "<br> $p(x) = \\frac{1}{1+e^{-(\\beta_0 + \\beta_1x_1 + ... + \\beta_rx_r)}}$ <br>\n",
    "$\\beta_0, \\beta_1, ..., \\beta_r$ are known as the **estimators**, **coefficients**, or **predicted weights**. "
   ]
  },
  {
   "cell_type": "markdown",
   "id": "e7f5f1a3",
   "metadata": {},
   "source": [
    "Therefore, $p(x)$ can be treated as *the probability that the output for a given input is equal to* **1**, *i.e.* $P(y = 1)$ . Conversely, the probability that the output of a given input is equal to **0** is given by $1-p(x)$."
   ]
  },
  {
   "cell_type": "markdown",
   "id": "48f3e9e3",
   "metadata": {},
   "source": [
    "Therefore, **model fitting** or **training** in logistic regression is the process of determining the optimal values of the coefficients $\\beta_0, \\beta_1, ..., \\beta_r$, such that the distance between the curve and the data points for each $y_i$ is as close as possible. There are many model fitting approaches, the most commonly used one being maximum-likelihood estimation (MLE). While it is beyond the scope of this tutorial, in the simplest terms we *optimise the likelihood function of the parameters given the data*. \n"
   ]
  },
  {
   "cell_type": "markdown",
   "id": "88826a7a",
   "metadata": {},
   "source": [
    "Notably, simply determining the weights is **not enough** to conclude our classification problem because we only have the *probability* that a given input is equal to 1 (or 0). We need a cutoff, a shortcut! <br> For example, for binary regression it makes sense for the algorithm to classify an input as 1 if $p>0.5$. Depending on the application, a different cutoff may be chosen. "
   ]
  },
  {
   "cell_type": "markdown",
   "id": "a3ccf000",
   "metadata": {},
   "source": [
    "### Briefly comparing linear regression to logistic regression"
   ]
  },
  {
   "cell_type": "markdown",
   "id": "bbc1a085",
   "metadata": {},
   "source": [
    "Before we look at our data and the way we actually implement logicstic regression in Pyhton, let's dwell on the similarities and differences between linear and logistic regresion."
   ]
  },
  {
   "cell_type": "code",
   "execution_count": 4,
   "id": "876c903b",
   "metadata": {},
   "outputs": [],
   "source": [
    "# let's generate some very arbitrary data\n",
    "x = np.arange(10).reshape(-1, 1)\n",
    "y = np.array([0, 0, 0, 0, 0, 1, 1, 1, 1, 1])"
   ]
  },
  {
   "cell_type": "markdown",
   "id": "7ba84d53",
   "metadata": {},
   "source": [
    "Below, I will evaluate the linear and logistic regression function for this arbitrary dataset. (We will go through the details in a moment, just run these chunks...)"
   ]
  },
  {
   "cell_type": "code",
   "execution_count": 5,
   "id": "03847c09",
   "metadata": {},
   "outputs": [],
   "source": [
    "# a linear and a logistic regression model\n",
    "## we'll see how that's done in more detail further on, this is just an illustration ## \n",
    "linr = LinearRegression().fit(x, y)\n",
    "logr = LogisticRegression().fit(x, y)"
   ]
  },
  {
   "cell_type": "code",
   "execution_count": 6,
   "id": "076875de",
   "metadata": {
    "scrolled": true
   },
   "outputs": [
    {
     "data": {
      "image/png": "[encoded data removed]",
      "text/plain": [
       "<Figure size 432x288 with 1 Axes>"
      ]
     },
     "metadata": {
      "needs_background": "light"
     },
     "output_type": "display_data"
    }
   ],
   "source": [
    "plt.scatter(x, y, color = \"red\") # scatterplot of data\n",
    "plt.ylim([-0.05, 1.05])\n",
    "plt.xlim([-0.5, 9.5])\n",
    "plt.plot(x, linr.predict(x), color = \"green\") # linear regression\n",
    "plt.plot(x, logr.predict(x), color = \"blue\") # logistic regression model\n",
    "#plt.plot(sigm*0.2+4.57, np.array(sigmoid(sigm)), color = \"black\") # manually implemented sigmoid\n",
    "plt.plot([0,10], [0.5, 0.5], linestyle = \"dotted\", color = \"black\") # our cutoff\n",
    "plt.title(\"Linear vs Logistic regression\")\n",
    "plt.xlabel(\"x\")\n",
    "plt.ylabel(\"y\")\n",
    "plt.show()"
   ]
  },
  {
   "cell_type": "markdown",
   "id": "353efd25",
   "metadata": {},
   "source": [
    "Since the logistic regression (blue) looks a bit too exact, let's plot our smoother sigmoid curve from before."
   ]
  },
  {
   "cell_type": "code",
   "execution_count": 7,
   "id": "5eb4ae9d",
   "metadata": {},
   "outputs": [
    {
     "data": {
      "image/png": "[encoded data removed]",
      "text/plain": [
       "<Figure size 432x288 with 1 Axes>"
      ]
     },
     "metadata": {
      "needs_background": "light"
     },
     "output_type": "display_data"
    }
   ],
   "source": [
    "plt.scatter(x, y, color = \"red\") # scatterplot of data\n",
    "plt.ylim([-0.05, 1.05])\n",
    "plt.xlim([-0.5, 9.5])\n",
    "plt.plot(x, linr.predict(x), color = \"green\") # linear regression\n",
    "#plt.plot(x, logr.predict(x), color = \"blue\") # logistic regression model\n",
    "plt.plot(sigm*0.2+4.57, np.array(sigmoid(sigm)), color = \"black\") # manually implemented sigmoid\n",
    "plt.plot([0,10], [0.5, 0.5], linestyle = \"dotted\", color = \"black\") # our cutoff\n",
    "plt.title(\"Linear vs Logistic regression / Sigmoid\")\n",
    "plt.xlabel(\"x\")\n",
    "plt.ylabel(\"y\")\n",
    "plt.show()"
   ]
  },
  {
   "cell_type": "markdown",
   "id": "5039215d",
   "metadata": {},
   "source": [
    "Note how the linear regression used here would still give *some* meaningful results. But the sigmoid is able to cover the entire dataset much more thoroughly and elegantly. <br>\n",
    "Moreover, the dotted line at $y=0.5$ is that cutoff which I have been going on about all this time. Given our data (red), we find the sigmoid line, *i.e.* logistic regression function (black) with parameters such, that the black line is as close to the data as possible. <br> Then, when we evaluate a new observation, that is simply a dot somewhere on the black line. If the \"dot\" is in the upper part of the plane (above our cut-off), it is classified as a 1, otherwise, it is a 0. "
   ]
  },
  {
   "cell_type": "markdown",
   "id": "5412e822",
   "metadata": {},
   "source": [
    "<a id = \"data\"></a>\n",
    "## Introducing the dataset"
   ]
  },
  {
   "cell_type": "markdown",
   "id": "b830927f",
   "metadata": {},
   "source": [
    "We will use a dataset from [Kaggle](https://www.kaggle.com/uciml/pima-indians-diabetes-database) to *predict whether a person has diabetes based on several variables*. The data are a subset from a larger database from the National Institute of Diabetes and Digestive and Kidney Diseases. All the subjects are females, 21+ years old, and of Pima Indian heritage. \n",
    "> The datasets consists of several medical predictor variables and one target variable. Predictor variables includes the number of pregnancies the patient has had, their BMI, insulin level, age, and so on."
   ]
  },
  {
   "cell_type": "markdown",
   "id": "4115df8a",
   "metadata": {},
   "source": [
    "We have 8 predictors and one outcome. <br> \n",
    "- `pregnancies` = number of previous pregancies\n",
    "- `glucose` = blood glucose levels from a glucose tolerance test\n",
    "- `bp` = diastolic blood pressure values (mm Hg) \n",
    "- `skin_thickness` = triceps skin fold thickness (mm)\n",
    "- `insulin` = levels of insulin \n",
    "- `bmi` = body mass index (BMI), $\\frac{weight}{ height^2} = \\frac{kg}{m^2}$\n",
    "- `pedigree` = diabetes pedigree function\n",
    "- `age` = age (years)\n",
    "- `outcome` = health outcome (1 = diabetic, 0 = healthy)\n",
    "\n",
    "You don't necessarily need to understand what relationship (if any??) these have with diabetes. The beauty of being a data scientist is that someone thought about the relationship between the variables at the stage of data collection - your task is to look at the models and evaluate them. "
   ]
  },
  {
   "cell_type": "code",
   "execution_count": 8,
   "id": "40b7d945",
   "metadata": {
    "scrolled": true
   },
   "outputs": [
    {
     "name": "stdout",
     "output_type": "stream",
     "text": [
      "No missing values.\n",
      "\n",
      "   pregnancies  glucose  bp  skin_thickness  insulin   bmi  pedigree  age  \\\n",
      "0            6      148  72              35        0  33.6     0.627   50   \n",
      "1            1       85  66              29        0  26.6     0.351   31   \n",
      "2            8      183  64               0        0  23.3     0.672   32   \n",
      "3            1       89  66              23       94  28.1     0.167   21   \n",
      "4            0      137  40              35      168  43.1     2.288   33   \n",
      "\n",
      "   outcome  \n",
      "0        1  \n",
      "1        0  \n",
      "2        1  \n",
      "3        0  \n",
      "4        1  \n"
     ]
    }
   ],
   "source": [
    "# load dataset\n",
    "diabetes = pd.read_csv(\"diabetes.csv\")\n",
    "\n",
    "# check for missing values\n",
    "print(\"NaNs in data frame.\\n\") if diabetes.isnull().values.any() else print(\"No missing values.\\n\")\n",
    "\n",
    "# print head\n",
    "print(diabetes.head())"
   ]
  },
  {
   "cell_type": "markdown",
   "id": "9049a275",
   "metadata": {},
   "source": [
    "A brief note on input data format: note that every *observation* fits a *row* and every *predictor* has its own *column*. You might sometimes be given *frequency* tables - remember to recode these into this \"long\" format! "
   ]
  },
  {
   "cell_type": "markdown",
   "id": "dfb438ef",
   "metadata": {},
   "source": [
    "Let's split our data into features and targets. Further, let's split the entire data set into training and testing subsets. We will use 75% of the data to train the model and 25% to test its performance.  "
   ]
  },
  {
   "cell_type": "code",
   "execution_count": 9,
   "id": "59e918aa",
   "metadata": {},
   "outputs": [],
   "source": [
    "# split data into features/inputs and targets/outputs\n",
    "feature_cols = ['pregnancies', 'insulin', 'bmi', 'age', 'glucose', 'bp', 'pedigree']\n",
    "X = diabetes[feature_cols] # features\n",
    "y = diabetes.outcome # target variable"
   ]
  },
  {
   "cell_type": "code",
   "execution_count": 10,
   "id": "02eda81e",
   "metadata": {},
   "outputs": [],
   "source": [
    "# split data into training and validation datasets \n",
    "X_train, X_test, y_train, y_test = train_test_split(X, y, test_size=0.25, random_state=0)"
   ]
  },
  {
   "cell_type": "markdown",
   "id": "2f6cbd13",
   "metadata": {},
   "source": [
    "<a id = \"implement\"></a>\n",
    "## Model training / fitting"
   ]
  },
  {
   "cell_type": "code",
   "execution_count": 11,
   "id": "8390361c",
   "metadata": {},
   "outputs": [],
   "source": [
    "# create model and train it\n",
    "model = LogisticRegression()"
   ]
  },
  {
   "cell_type": "markdown",
   "id": "13b45af5",
   "metadata": {},
   "source": [
    "We have just created an instance of a `LogisticRegression` object. <br>\n",
    "`model.LogisticRegression` will take several parameters of which some immediately interesting mich be: \n",
    "\n",
    "- `fit_intercept` - Boolean, decides whether to calculate the intercept $\\beta_0$ (when True, deafult) or consider it equal to zero (when False). \n",
    "- `intercept_scaling` - floating-point number, defines the scaling of the intercept $\\beta_0$, (1.0 by default). \n",
    "- `class_weight` - dictionary, 'balanced', or `None` (default), defines the weights related to each class. When `None`, all classes have the weight one.\n",
    "- `solver` - string, what solver to use for fitting the model. 'liblinear' by default; other options are 'newton-cg', 'lbfgs', 'sag', and 'saga'.\n",
    "- `tol` - floating-point number, defines the tolerance for stopping the procedure (0.0001 by default).\n",
    "- `n_jobs` - integer or `None` (default), defines the number of parallel processes to use. `None` usually means to use one core, while -1 means to use all available cores.\n",
    "\n",
    "There are many other parameters which you are encouraged to explore in more complex applications. "
   ]
  },
  {
   "cell_type": "markdown",
   "id": "af4d0c7f",
   "metadata": {},
   "source": [
    "Having created a model, we now need to train it. This is done simply by supplying the training feature set: "
   ]
  },
  {
   "cell_type": "code",
   "execution_count": 12,
   "id": "e8de12c7",
   "metadata": {},
   "outputs": [
    {
     "name": "stderr",
     "output_type": "stream",
     "text": [
      "C:\\ProgramData\\Anaconda3\\lib\\site-packages\\sklearn\\linear_model\\_logistic.py:765: ConvergenceWarning: lbfgs failed to converge (status=1):\n",
      "STOP: TOTAL NO. of ITERATIONS REACHED LIMIT.\n",
      "\n",
      "Increase the number of iterations (max_iter) or scale the data as shown in:\n",
      "    https://scikit-learn.org/stable/modules/preprocessing.html\n",
      "Please also refer to the documentation for alternative solver options:\n",
      "    https://scikit-learn.org/stable/modules/linear_model.html#logistic-regression\n",
      "  extra_warning_msg=_LOGISTIC_SOLVER_CONVERGENCE_MSG)\n"
     ]
    },
    {
     "data": {
      "text/plain": [
       "LogisticRegression()"
      ]
     },
     "execution_count": 12,
     "metadata": {},
     "output_type": "execute_result"
    }
   ],
   "source": [
    "# fitting the model\n",
    "model.fit(X_train, y_train)"
   ]
  },
  {
   "cell_type": "markdown",
   "id": "372cfd53",
   "metadata": {},
   "source": [
    "`.fit()` requires the independent (`x`), and dependent (`y`) variables. It can also take observation-related weights. It fits the model and returns the model instance itself: <br>\n",
    "`LogisticRegression(C=1.0, class_weight=None, dual=False, fit_intercept=True,     \n",
    "                   intercept_scaling=1, l1_ratio=None, max_iter=100,             \n",
    "                   multi_class='warn', n_jobs=None, penalty='l2',                \n",
    "                   random_state=0, solver='liblinear', tol=0.0001, verbose=0,    \n",
    "                   warm_start=False)                                           `"
   ]
  },
  {
   "cell_type": "code",
   "execution_count": 13,
   "id": "555dca1b",
   "metadata": {},
   "outputs": [
    {
     "name": "stderr",
     "output_type": "stream",
     "text": [
      "C:\\ProgramData\\Anaconda3\\lib\\site-packages\\sklearn\\linear_model\\_logistic.py:765: ConvergenceWarning: lbfgs failed to converge (status=1):\n",
      "STOP: TOTAL NO. of ITERATIONS REACHED LIMIT.\n",
      "\n",
      "Increase the number of iterations (max_iter) or scale the data as shown in:\n",
      "    https://scikit-learn.org/stable/modules/preprocessing.html\n",
      "Please also refer to the documentation for alternative solver options:\n",
      "    https://scikit-learn.org/stable/modules/linear_model.html#logistic-regression\n",
      "  extra_warning_msg=_LOGISTIC_SOLVER_CONVERGENCE_MSG)\n"
     ]
    }
   ],
   "source": [
    "# an elecgant one line model creation and fitting can be done as follows: \n",
    "model = LogisticRegression().fit(X_train, y_train)"
   ]
  },
  {
   "cell_type": "markdown",
   "id": "b28197c2",
   "metadata": {},
   "source": [
    "Taking advantage of attributes, we can retrieve the intercept, $\\beta_0$, and the slopes, $\\beta_1, ..., \\beta_r$, as follows: "
   ]
  },
  {
   "cell_type": "code",
   "execution_count": 14,
   "id": "f5e8d6e6",
   "metadata": {},
   "outputs": [
    {
     "name": "stdout",
     "output_type": "stream",
     "text": [
      "The intercept is -8.050\n",
      "The model coefficients are:\n",
      "\t pregnancies 0.0897\n",
      "\t insulin -0.0005\n",
      "\t bmi 0.0942\n",
      "\t age 0.0230\n",
      "\t glucose 0.0306\n",
      "\t bp -0.0150\n",
      "\t pedigree 1.0254\n"
     ]
    }
   ],
   "source": [
    "print(\"The intercept is %.3f\" % model.intercept_)\n",
    "print(\"The model coefficients are:\")\n",
    "for i,j in zip(feature_cols, model.coef_.reshape(-1,1)):\n",
    "    print(\"\\t %s %.4f\" % (i,j))"
   ]
  },
  {
   "cell_type": "markdown",
   "id": "fc9816e8",
   "metadata": {},
   "source": [
    "Note that the intercept is in a one-dimensional array, whereas the coefficients (slopes) are in a two-dimensional array. "
   ]
  },
  {
   "cell_type": "markdown",
   "id": "10788e77",
   "metadata": {},
   "source": [
    "In the introduction we called the logit function a \"log-odds ratio\". This means that if we convert from the logarithmic form back to the exponential form, we will get the **odds ratios** for each predictor. These odds ratios are also known as **effect sizes**. Effect sizes are really important, as they give us an indication of the magnitude of the impact every predictor has on the outcome of interest."
   ]
  },
  {
   "cell_type": "code",
   "execution_count": 15,
   "id": "511d75f9",
   "metadata": {},
   "outputs": [
    {
     "name": "stdout",
     "output_type": "stream",
     "text": [
      "The effect sizes are:\n",
      "\t pregnancies 1.0938\n",
      "\t insulin 0.9995\n",
      "\t bmi 1.0988\n",
      "\t age 1.0233\n",
      "\t glucose 1.0311\n",
      "\t bp 0.9851\n",
      "\t pedigree 2.7883\n"
     ]
    }
   ],
   "source": [
    "print(\"The effect sizes are:\")\n",
    "for i,j in zip(feature_cols, np.exp(model.coef_.reshape(-1,1))):\n",
    "    print(\"\\t %s %.4f\" % (i,j))"
   ]
  },
  {
   "cell_type": "markdown",
   "id": "d4fc7e83",
   "metadata": {},
   "source": [
    "It is important that the effects of each odds ratio are **multiplicative**. Therefore, the closer an effect size is to 1, the more negligible its impacts are on the outcome. Odds greater than 1 indicate an increase in the likelihood of an outcome and *vice versa* for outcomes less than 1. \n",
    "<br><br>\n",
    "Examining the table above, we can conclude that insulin levels are not a great predictor of diabetes. \n",
    "<br><br>\n",
    "Age, glucose levels, and blood pressure also have quite small effect sizes (up to 1 +/- 0.03). \n",
    "<br><br>\n",
    "Previous pregnancies and BMI both seem to have a protective effect against diabetes. \n",
    "<br><br>\n",
    "Perhaps not surprisingly, the greatest predictor of diabetes is genealogical - in other words, genetic. It increases the odds of having diabetes almost three-fold! "
   ]
  },
  {
   "cell_type": "markdown",
   "id": "564e1172",
   "metadata": {},
   "source": [
    "<a id = \"metrics\"></a>\n",
    "## Evaluating model performance"
   ]
  },
  {
   "cell_type": "markdown",
   "id": "ea06a6bd",
   "metadata": {},
   "source": [
    "Once we have fit our model, we would be interested in evaluating how well the classifier is performing. While in a good mdel, many of the predictions will be accurate, still,, inevitably, there will be errors. Sometimes the model will misplace healthy individuals with diabetic ones (false-positives) or *vice versa*, diabetic individuals will be classified as healthy (false-negatives). Therefore, there is a wealth of measures we can use to understand and evaluate the performance of our model. "
   ]
  },
  {
   "cell_type": "markdown",
   "id": "8b7887db",
   "metadata": {},
   "source": [
    "**Accuracy** is the simplest and most intuitive measure of performance. It is given by the ratio between the number of *correct* predictions and the *total* number of predictions. The *correct* predictions are predicting 1 when the truth is also 1 (true positive) and predicting 0 when the truth is 0 (true negative). After all, what good is a test which predicts at random and gives lots of incorrect predictions?\n",
    "\n",
    "$ accuracy = \\frac{TP + TN}{TP + TN + FP + FN} $"
   ]
  },
  {
   "cell_type": "markdown",
   "id": "83e23dc9",
   "metadata": {},
   "source": [
    "**Precision** is about the consistency of the results we obtain. How much noise is there in the performance of the model: *What proportion of positive predictions is actually correct?* That's why precision is given by the ratio of the true positives and the sum of the true positives and false positives (noise, imprecision). So when our model predicts that someone is diabetic, precision will give us the probability/ratio/percentage that this prediction is correct. \n",
    "\n",
    "$ precision = \\frac{TP}{TP + FP} $"
   ]
  },
  {
   "cell_type": "markdown",
   "id": "d0fdd642",
   "metadata": {},
   "source": [
    "Note that a model can be accurate but imprecise (*i.e.* it is *capable* of giving right predictions (unbiased), it's just not consistent) and inaccurate but precise (*i.e.* it is *biased* but consistent). Also note how these extremes are both not very useful. "
   ]
  },
  {
   "cell_type": "markdown",
   "id": "ebf887f7",
   "metadata": {},
   "source": [
    "**Sensitivity (recall,  true positive rate)** is the flip-side of precision. It indicates how many of the *total* positive cases the model is able to identify (i.e. how many cases could we miss if we assumed the model was perfect?) \n",
    "\n",
    "$ sensitivity = \\frac{TP}{(TP + FN)} $"
   ]
  },
  {
   "cell_type": "markdown",
   "id": "06a2789d",
   "metadata": {},
   "source": [
    "To give an example, if a spam filter is 80% precise and 60% sensitive, it will give an accurate spam classification 8 out of 10 times, but it will only identify 6 out of 10 spam emails. This is probably one of the most important trade-offs!  "
   ]
  },
  {
   "cell_type": "markdown",
   "id": "7feb496d",
   "metadata": {},
   "source": [
    "**Specificity (true negative rate)** is the opposite of sensitivity. If sensitivity is about being able to identify as many of the true positives as possible, specificity is about being able to reject as many of the true negatives as possible. For example, if a medical test is 95% specific, out of 100 *healthy* individuals tested, 95% will test negative. 5 will test positive despite not having a disease!  \n",
    "\n",
    "$ specificity = \\frac{TN}{(TN + FP)} $"
   ]
  },
  {
   "cell_type": "markdown",
   "id": "7471f564",
   "metadata": {},
   "source": [
    "**Confusion matrix** - a 2x2 matrix with *diagonal entries representing accurate predictions*, and *non-diagonal entries being inaccurate predictions*. It is a very neat way of summarising true and false predictions.\n",
    "- True negatives (TN): correctly predicted negatives (0)\n",
    "- True positives(TP): correctly predicted positives (1)\n",
    "- False negatives (FN): incorrectly predicted negatives (0)\n",
    "- False positives (FP): incorrectly predicted positives (1)\n"
   ]
  },
  {
   "cell_type": "markdown",
   "id": "fb7af58f",
   "metadata": {},
   "source": [
    "**$F_1$ score** is another measure of a test or model's accuracy. It is the **harmonic mean** of precision and recall. If we come back to the spam filter example, the perfect spam filter would always *accurately filter out* a given email, and it would *not miss any spam emails*. In this case, it would have an F-score of 1.0. \n",
    "\n",
    "$ F_1\\ score= 2* \\frac{precision*recall}{precision+recall}$"
   ]
  },
  {
   "cell_type": "markdown",
   "id": "eb014ba7",
   "metadata": {},
   "source": [
    "It is important to keep in mind that none of these metrics is fool-proof or comprehensive. There are many more performance evaluation measures out there. The choice of metrics will critically depend on the **goal and application** of your model. "
   ]
  },
  {
   "cell_type": "markdown",
   "id": "d153073c",
   "metadata": {},
   "source": [
    "But how do we actually get these metrics in Python? \n",
    "<br><br>\n",
    "Let's first make some predictions. `.predict_proba()` returns a matrix of probailities that the predicted output is equal to 0 or 1. <br>\n",
    "The first column is the probability of the predicted output being 0, that is 1 - 𝑝(𝑥). <br>\n",
    "The second column is the probability that the output is 1, or 𝑝(𝑥)."
   ]
  },
  {
   "cell_type": "code",
   "execution_count": 16,
   "id": "3e6f061f",
   "metadata": {},
   "outputs": [
    {
     "data": {
      "text/plain": [
       "array([[0.91895474, 0.08104526],\n",
       "       [0.79136004, 0.20863996],\n",
       "       [0.89835642, 0.10164358],\n",
       "       [0.18373163, 0.81626837],\n",
       "       [0.25492803, 0.74507197]])"
      ]
     },
     "execution_count": 16,
     "metadata": {},
     "output_type": "execute_result"
    }
   ],
   "source": [
    "model.predict_proba(X_train)[0:5] # let's just look at the output of a few"
   ]
  },
  {
   "cell_type": "markdown",
   "id": "5a51e85a",
   "metadata": {},
   "source": [
    "Remember that the logistic regression only returns *a probability* that an individual is diseased or not, not a definitive answe. The answer comes from our \"cut-off\": $P=0.5$ in this case. Hence, to obtain actual predictions, we would use `.predict()`, which returns the predicted outputs. "
   ]
  },
  {
   "cell_type": "code",
   "execution_count": 17,
   "id": "a2d10703",
   "metadata": {},
   "outputs": [
    {
     "data": {
      "text/plain": [
       "array([1, 0, 0, 1, 0], dtype=int64)"
      ]
     },
     "execution_count": 17,
     "metadata": {},
     "output_type": "execute_result"
    }
   ],
   "source": [
    "y_pred = model.predict(X_test)\n",
    "y_pred[0:5]"
   ]
  },
  {
   "cell_type": "code",
   "execution_count": 18,
   "id": "6c9c544a",
   "metadata": {},
   "outputs": [
    {
     "name": "stdout",
     "output_type": "stream",
     "text": [
      "Accuracy for test set is 80.73.\n",
      "Precision for test set is 74.51.\n",
      "Recall for test set is 61.29.\n"
     ]
    }
   ],
   "source": [
    "# metrics\n",
    "print(\"Accuracy for test set is {}.\".format(round(metrics.accuracy_score(y_test, y_pred), 4)*100))\n",
    "print(\"Precision for test set is {}.\".format(round(metrics.precision_score(y_test, y_pred), 4)*100))\n",
    "print(\"Recall for test set is {}.\".format(round(metrics.recall_score(y_test, y_pred), 4)*100))"
   ]
  },
  {
   "cell_type": "markdown",
   "id": "c8825174",
   "metadata": {},
   "source": [
    "We can also get a classification report which includes precision, recall, and the f1-score. "
   ]
  },
  {
   "cell_type": "code",
   "execution_count": 19,
   "id": "600be652",
   "metadata": {
    "scrolled": true
   },
   "outputs": [
    {
     "name": "stdout",
     "output_type": "stream",
     "text": [
      "              precision    recall  f1-score   support\n",
      "\n",
      "           0       0.83      0.90      0.86       130\n",
      "           1       0.75      0.61      0.67        62\n",
      "\n",
      "    accuracy                           0.81       192\n",
      "   macro avg       0.79      0.76      0.77       192\n",
      "weighted avg       0.80      0.81      0.80       192\n",
      "\n"
     ]
    }
   ],
   "source": [
    "print(metrics.classification_report(y_test, y_pred))"
   ]
  },
  {
   "cell_type": "markdown",
   "id": "25180fa6",
   "metadata": {},
   "source": [
    "We could obtain a confusion matrix using one line of code too. "
   ]
  },
  {
   "cell_type": "code",
   "execution_count": 20,
   "id": "a481526d",
   "metadata": {},
   "outputs": [
    {
     "name": "stdout",
     "output_type": "stream",
     "text": [
      "[[117  13]\n",
      " [ 24  38]]\n"
     ]
    }
   ],
   "source": [
    "conf_mat = metrics.confusion_matrix(y_test, y_pred)\n",
    "print(conf_mat)"
   ]
  },
  {
   "cell_type": "code",
   "execution_count": 21,
   "id": "f023cc39",
   "metadata": {},
   "outputs": [
    {
     "data": {
      "image/png": "[encoded data removed]",
      "text/plain": [
       "<Figure size 864x432 with 2 Axes>"
      ]
     },
     "metadata": {
      "needs_background": "light"
     },
     "output_type": "display_data"
    }
   ],
   "source": [
    "# plotting the confusion matrix\n",
    "plt.figure(figsize=(12,6))\n",
    "plt.title(\"Confusion Matrix\")\n",
    "sns.heatmap(conf_mat, annot=True, fmt='d', cmap='Blues')\n",
    "plt.ylabel(\"Actual Values\")\n",
    "plt.xlabel(\"Predicted Values\")\n",
    "plt.savefig('confusion_matrix.png')"
   ]
  },
  {
   "cell_type": "markdown",
   "id": "689d18cb",
   "metadata": {},
   "source": [
    "### ROC curve"
   ]
  },
  {
   "cell_type": "markdown",
   "id": "b9d2acdc",
   "metadata": {},
   "source": [
    "**Receiver Operating Characteristic (ROC)** curve is anoher characteristic plot which you will see everywhere in machine learning contexts. It plots the true positive rate against the false positive rate, showing the tradeoff between *sensitivity* and *specificity*. The **area under the curve (AUC)** showws how close the classifier is to ideal performance. Therefore, the \"best\" ROC curve of a model with 100% specificity and sensitivity would look like an upside-down L, and the AOC would be 1. "
   ]
  },
  {
   "cell_type": "code",
   "execution_count": 22,
   "id": "22117d20",
   "metadata": {},
   "outputs": [
    {
     "data": {
      "image/png": "[encoded data removed]",
      "text/plain": [
       "<Figure size 432x288 with 1 Axes>"
      ]
     },
     "metadata": {
      "needs_background": "light"
     },
     "output_type": "display_data"
    }
   ],
   "source": [
    "# ROC curve\n",
    "y_pred_proba = model.predict_proba(X_test)[::,1]\n",
    "fpr, tpr, _ = metrics.roc_curve(y_test, y_pred_proba)\n",
    "auc = metrics.roc_auc_score(y_test, y_pred_proba)\n",
    "plt.plot(fpr, tpr, label=\"Logistic Regressiom, AUC = \" + str(round(auc*100,2)))\n",
    "plt.plot([0,0], [0,1], color = \"darkviolet\") # ideal curve\n",
    "plt.plot([0,1], [1,1], color = \"darkviolet\") # ideal curve \n",
    "plt.plot([0, 1], [0, 1],'r--') # random classification\n",
    "plt.legend(loc=4)\n",
    "plt.xlabel(\"False positive rate\")\n",
    "plt.ylabel(\"True positive rate\")\n",
    "plt.title(\"Receiver operating characteristic (ROC)\")\n",
    "plt.show()"
   ]
  },
  {
   "cell_type": "markdown",
   "id": "257aa32d",
   "metadata": {},
   "source": [
    "In the visualisation above, the ROC curve is shown in blue, while the \"ideal\" ROC curve is in violet. The red line shows a completely random classifies. We can see that our classifier is closer to ideal behaviour than to completely random behaviour. "
   ]
  },
  {
   "cell_type": "markdown",
   "id": "64637ff4",
   "metadata": {},
   "source": [
    "<a id = \"conclusion\"></a>\n",
    "## Concluding remarks"
   ]
  },
  {
   "cell_type": "markdown",
   "id": "6ab1cc78",
   "metadata": {},
   "source": [
    "We have leared how to implement a simple case of the logistic regression. As we saw, logistic regression is a relatively intuitive, efficient, and elegant classification technique which provides us with a probability for a given outcome given some observation. This makes it a very popular classifier. There are several advantages to using logistic regression. Many would say that the main one is that it does not require high computational power. In addition, it is easy to implement, even from scratch, and the interpretation is fairly straightforward. \n",
    "<br><br>\n",
    "Despite the great popularity enjoyed by logistic regression, it's important to keep in mind that it suffers several shortcomings. One of the main limitations to keep in mind is that it *cannot handle highly complex models* with many predictor variables. In these cases, **model selection** must be carried out. Unfortunately, we do not have time to go into this in the scope of today's workshop. Deciding which variables to include in the model can be non-trivial. This is the bit where understanding the relationships between the different variables and the source of the data can be important.\n",
    "<br><br>\n",
    "In addition, to give meaningful predictions, logistic regression models need to be trained on large samples. Logistic regression models are also prone to **overfitting**: learning the data \"too well\" (learning the noise in the data). This will be covered in our next workshop, together with **regularisation**, a helpful solution. They *cannot solve non-linear problems*; hence, they require non-linear data to be *transformed*. If the dependency between the independent and the dependent variable is *weak*, the classifier will not perform well. Finally, if the independent variables are not in fact independent, the model performance will suffer from **collinearity**. Again, while we cannot cover collinearity within the scope of this workshop, it is something worth lookning into. \n",
    "<br><br>\n",
    "Still, there is a wealth of other classification techniques which could be used as alternatives. We will cover these in future workshops. \n",
    "- Naive Bayes classifiers\n",
    "- Support vector machines (SVM)\n",
    "- Decision trees\n",
    "- Random forests\n",
    "- Neural networks"
   ]
  },
  {
   "cell_type": "markdown",
   "id": "d10b1bae",
   "metadata": {},
   "source": [
    "# Further resources and links consulted"
   ]
  },
  {
   "cell_type": "markdown",
   "id": "d03e2a64",
   "metadata": {},
   "source": [
    "- Here's an example of a multiple regression model: [classifying images of digits](https://towardsdatascience.com/logistic-regression-using-python-sklearn-numpy-mnist-handwriting-recognition-matplotlib-a6b31e2b166a). \n",
    "- A very detailed [RealPython tutorial](https://realpython.com/logistic-regression-python/), most of this workshop is based on the information provided.\n",
    "- A wonderful [DataCamp tutorial](https://www.datacamp.com/community/tutorials/understanding-logistic-regression-python) providing the basis of the data analysis. \n",
    "\n",
    "And further reading wth more examples for those interested.\n",
    "- https://asperbrothers.com/blog/logistic-regression-in-python/  \n",
    "- https://towardsdatascience.com/building-a-logistic-regression-in-python-step-by-step-becd4d56c9c8  \n",
    "- https://towardsdatascience.com/logistic-regression-using-python-sklearn-numpy-mnist-handwriting-recognition-matplotlib-a6b31e2b166a\n",
    "- https://www.nature.com/articles/nmeth.3904\n",
    "- https://www.ibm.com/cloud/learn/supervised-learning"
   ]
  }
 ],
 "metadata": {
  "kernelspec": {
   "display_name": "Python 3",
   "language": "python",
   "name": "python3"
  },
  "language_info": {
   "codemirror_mode": {
    "name": "ipython",
    "version": 3
   },
   "file_extension": ".py",
   "mimetype": "text/x-python",
   "name": "python",
   "nbconvert_exporter": "python",
   "pygments_lexer": "ipython3",
   "version": "3.7.6"
  }
 },
 "nbformat": 4,
 "nbformat_minor": 5
}

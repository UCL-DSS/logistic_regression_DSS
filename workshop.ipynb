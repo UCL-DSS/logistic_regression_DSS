{
 "cells": [
  {
   "cell_type": "markdown",
   "id": "d0083273",
   "metadata": {},
   "source": [
    "# Logistic Regression"
   ]
  },
  {
   "cell_type": "markdown",
   "id": "f78a1529",
   "metadata": {},
   "source": [
    "**Author:** Seda Radoykova, Science Executive (21/22), UCL DSS\n",
    "\n",
    "**Date:** 11 Nov, 2021\n",
    "\n",
    "***Proudly presented by the UCL Data Science Society***"
   ]
  },
  {
   "cell_type": "markdown",
   "id": "852cb4d5",
   "metadata": {},
   "source": [
    "- https://realpython.com/logistic-regression-python/  \n",
    "- https://asperbrothers.com/blog/logistic-regression-in-python/  \n",
    "- https://towardsdatascience.com/building-a-logistic-regression-in-python-step-by-step-becd4d56c9c8  \n",
    "- https://towardsdatascience.com/logistic-regression-using-python-sklearn-numpy-mnist-handwriting-recognition-matplotlib-a6b31e2b166a\n",
    "- https://www.nature.com/articles/nmeth.3904"
   ]
  },
  {
   "cell_type": "markdown",
   "id": "1306700b",
   "metadata": {},
   "source": [
    "## Classification problems in ML\n",
    "https://realpython.com/logistic-regression-python/\n",
    "\n",
    "Supervised machine learning algorithms define models that capture relationships among data. Classification is an area of supervised machine learning that tries to predict which class or category some entity belongs to, based on its features.\n",
    "\n",
    "For example, you might analyze the employees of some company and try to establish a dependence on the features or variables, such as the level of education, number of years in a current position, age, salary, odds for being promoted, and so on. The set of data related to a single employee is one observation. The features or variables can take one of two forms:\n",
    "\n",
    "Independent variables, also called inputs or predictors, don’t depend on other features of interest (or at least you assume so for the purpose of the analysis).\n",
    "Dependent variables, also called outputs or responses, depend on the independent variables.\n",
    "In the above example where you’re analyzing employees, you might presume the level of education, time in a current position, and age as being mutually independent, and consider them as the inputs. The salary and the odds for promotion could be the outputs that depend on the inputs.\n",
    "\n",
    "Note: Supervised machine learning algorithms analyze a number of observations and try to mathematically express the dependence between the inputs and outputs. These mathematical representations of dependencies are the models.\n",
    "\n",
    "The nature of the dependent variables differentiates regression and classification problems. Regression problems have continuous and usually unbounded outputs. An example is when you’re estimating the salary as a function of experience and education level. On the other hand, classification problems have discrete and finite outputs called classes or categories. For example, predicting if an employee is going to be promoted or not (true or false) is a classification problem.\n",
    "\n",
    "There are two main types of classification problems:\n",
    "\n",
    "1. Binary or binomial classification: exactly two classes to choose between (usually 0 and 1, true and false, or positive and negative)\n",
    "1. Multiclass or multinomial classification: three or more classes of the outputs to choose from\n",
    "\n",
    "If there’s only one input variable, then it’s usually denoted with 𝑥. For more than one input, you’ll commonly see the vector notation 𝐱 = (𝑥₁, …, 𝑥ᵣ), where 𝑟 is the number of the predictors (or independent features). The output variable is often denoted with 𝑦 and takes the values 0 or 1."
   ]
  },
  {
   "cell_type": "markdown",
   "id": "74227b62",
   "metadata": {},
   "source": [
    "## Linear vs Logistic regression"
   ]
  },
  {
   "cell_type": "markdown",
   "id": "9f3c49f7",
   "metadata": {},
   "source": [
    "## Applications and related classification methods\n",
    "Beyond Logistic Regression in Python\n",
    "Logistic regression is a fundamental classification technique. It’s a relatively uncomplicated linear classifier. Despite its simplicity and popularity, there are cases (especially with highly complex models) where logistic regression doesn’t work well. In such circumstances, you can use other classification techniques:\n",
    "\n",
    "k-Nearest Neighbors\n",
    "Naive Bayes classifiers\n",
    "Support Vector Machines\n",
    "Decision Trees\n",
    "Random Forests\n",
    "Neural Networks"
   ]
  },
  {
   "cell_type": "markdown",
   "id": "65fc9084",
   "metadata": {},
   "source": [
    "## Define problem, function etc\n",
    "- logit"
   ]
  },
  {
   "cell_type": "markdown",
   "id": "2f6cbd13",
   "metadata": {},
   "source": [
    "## Model training/fitting"
   ]
  },
  {
   "cell_type": "markdown",
   "id": "8b7887db",
   "metadata": {},
   "source": [
    "## Classification Performance\n",
    "- accuracy\n",
    "- sensitivity, specificity\n",
    "- confusion matrix \n",
    "- F1\n"
   ]
  },
  {
   "cell_type": "markdown",
   "id": "a80df313",
   "metadata": {},
   "source": [
    "## Overfitting "
   ]
  },
  {
   "cell_type": "markdown",
   "id": "55b87388",
   "metadata": {},
   "source": []
  },
  {
   "cell_type": "markdown",
   "id": "6fa2c81f",
   "metadata": {},
   "source": []
  },
  {
   "cell_type": "markdown",
   "id": "7561a23b",
   "metadata": {},
   "source": []
  },
  {
   "cell_type": "markdown",
   "id": "cdda3342",
   "metadata": {},
   "source": []
  },
  {
   "cell_type": "markdown",
   "id": "aac83999",
   "metadata": {},
   "source": []
  },
  {
   "cell_type": "markdown",
   "id": "955318c2",
   "metadata": {},
   "source": []
  },
  {
   "cell_type": "markdown",
   "id": "45e78684",
   "metadata": {},
   "source": []
  },
  {
   "cell_type": "markdown",
   "id": "9f5bb23c",
   "metadata": {},
   "source": []
  },
  {
   "cell_type": "markdown",
   "id": "a4d2bc17",
   "metadata": {},
   "source": []
  },
  {
   "cell_type": "markdown",
   "id": "93f70723",
   "metadata": {},
   "source": []
  },
  {
   "cell_type": "markdown",
   "id": "7c3f98f4",
   "metadata": {},
   "source": []
  },
  {
   "cell_type": "markdown",
   "id": "1f07b0bc",
   "metadata": {},
   "source": []
  },
  {
   "cell_type": "markdown",
   "id": "f8630f8c",
   "metadata": {},
   "source": []
  },
  {
   "cell_type": "markdown",
   "id": "40de1f5b",
   "metadata": {},
   "source": []
  },
  {
   "cell_type": "markdown",
   "id": "3c5dea6a",
   "metadata": {},
   "source": []
  },
  {
   "cell_type": "markdown",
   "id": "a475553a",
   "metadata": {},
   "source": []
  },
  {
   "cell_type": "markdown",
   "id": "0adecfe1",
   "metadata": {},
   "source": []
  },
  {
   "cell_type": "markdown",
   "id": "9b10f496",
   "metadata": {},
   "source": []
  },
  {
   "cell_type": "markdown",
   "id": "d03e2a64",
   "metadata": {},
   "source": []
  }
 ],
 "metadata": {
  "kernelspec": {
   "display_name": "Python 3",
   "language": "python",
   "name": "python3"
  },
  "language_info": {
   "codemirror_mode": {
    "name": "ipython",
    "version": 3
   },
   "file_extension": ".py",
   "mimetype": "text/x-python",
   "name": "python",
   "nbconvert_exporter": "python",
   "pygments_lexer": "ipython3",
   "version": "3.7.6"
  }
 },
 "nbformat": 4,
 "nbformat_minor": 5
}
